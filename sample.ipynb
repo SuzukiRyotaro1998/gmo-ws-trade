{
 "cells": [
  {
   "cell_type": "code",
   "execution_count": 10,
   "metadata": {},
   "outputs": [],
   "source": [
    "import time\n",
    "from datetime import datetime\n",
    "import hmac\n",
    "import hashlib\n",
    "from typing import Dict, Tuple\n",
    "import os\n",
    "from dotenv import load_dotenv\n",
    "\n",
    "load_dotenv()\n",
    "\n",
    "\n",
    "class QueueAndTradeManager:\n",
    "    def __init__(self, api_key: str, api_secret: str) -> None:\n",
    "        self.enable_trade = False\n",
    "        if api_key is None or api_secret is None:\n",
    "            raise ValueError(\"api_key or api_secret is None. Check your .env file.\")\n",
    "\n",
    "        self.api_key = api_key\n",
    "        self.api_secret = api_secret\n",
    "        self.http_request_private_baseurl = \"https://api.coin.z.com/private\"\n",
    "\n",
    "    def __del__(self):\n",
    "        import time\n",
    "\n",
    "        # Sometime, Broken pipe error raises becase main process finishes faster than Queue.close().\n",
    "        time.sleep(0.01)\n",
    "\n",
    "    def http_headers(self, method: str, endpint: str):\n",
    "        timestamp = \"{0}000\".format(int(time.mktime(datetime.now().timetuple())))\n",
    "\n",
    "        text = timestamp + method + endpint\n",
    "        sign = hmac.new(bytes(self.api_secret.encode(\"ascii\")), bytes(text.encode(\"ascii\")), hashlib.sha256).hexdigest()\n",
    "\n",
    "        headers = {\"API-KEY\": self.api_key, \"API-TIMESTAMP\": timestamp, \"API-SIGN\": sign}\n",
    "        return headers\n",
    "\n",
    "    def test_http_private_request_args(self) -> Tuple[str, Dict]:\n",
    "        \"\"\"Get args to HTTP private request for GMO exchange\n",
    "\n",
    "        Returns:\n",
    "            Tuple[str, Dict]: uri and headers\n",
    "        \"\"\"\n",
    "        endpoint = \"/v1/account/margin\"\n",
    "        return self.http_request_private_baseurl + endpoint, self.http_headers(method=\"GET\", endpint=endpoint)"
   ]
  },
  {
   "cell_type": "code",
   "execution_count": 11,
   "metadata": {},
   "outputs": [
    {
     "data": {
      "text/plain": [
       "('https://api.coin.z.com/private/v1/account/margin',\n",
       " {'API-KEY': 'Plfxvm+FGFajlkeujJLhlzryVE5TkEJl',\n",
       "  'API-TIMESTAMP': '1646646488000',\n",
       "  'API-SIGN': '53fdef3a688422ef358b5a028e9f815504120422ced3038977ca6a8843ab27b2'})"
      ]
     },
     "execution_count": 11,
     "metadata": {},
     "output_type": "execute_result"
    }
   ],
   "source": [
    "manager = QueueAndTradeManager(api_key=os.environ[\"EXCHANGE_API_KEY\"], api_secret=os.environ[\"EXCHANGE_API_SECRET\"])\n",
    "\n",
    "url, headers = manager.test_http_private_request_args()\n",
    "url, headers"
   ]
  },
  {
   "cell_type": "code",
   "execution_count": 12,
   "metadata": {},
   "outputs": [
    {
     "data": {
      "text/plain": [
       "<Response [200]>"
      ]
     },
     "execution_count": 12,
     "metadata": {},
     "output_type": "execute_result"
    }
   ],
   "source": [
    "import requests\n",
    "\n",
    "requests.get(url, headers=headers)"
   ]
  },
  {
   "cell_type": "code",
   "execution_count": 9,
   "metadata": {},
   "outputs": [
    {
     "data": {
      "text/plain": [
       "<Response [200]>"
      ]
     },
     "execution_count": 9,
     "metadata": {},
     "output_type": "execute_result"
    }
   ],
   "source": [
    "import requests\n",
    "import json\n",
    "import hmac\n",
    "import hashlib\n",
    "import time\n",
    "from datetime import datetime\n",
    "\n",
    "apiKey    = os.environ[\"EXCHANGE_API_KEY\"]\n",
    "secretKey = os.environ[\"EXCHANGE_API_SECRET\"]\n",
    "\n",
    "timestamp = '{0}000'.format(int(time.mktime(datetime.now().timetuple())))\n",
    "method    = 'GET'\n",
    "endPoint  = 'https://api.coin.z.com/private'\n",
    "path      = '/v1/account/margin'\n",
    "\n",
    "text = timestamp + method + path\n",
    "sign = hmac.new(bytes(secretKey.encode('ascii')), bytes(text.encode('ascii')), hashlib.sha256).hexdigest()\n",
    "\n",
    "headers = {\n",
    "    \"API-KEY\": apiKey,\n",
    "    \"API-TIMESTAMP\": timestamp,\n",
    "    \"API-SIGN\": sign\n",
    "}\n",
    "\n",
    "requests.get(endPoint+path, headers=headers)"
   ]
  },
  {
   "cell_type": "code",
   "execution_count": null,
   "metadata": {},
   "outputs": [],
   "source": []
  }
 ],
 "metadata": {
  "interpreter": {
   "hash": "b5a4588476ecca76b0be4acb3844359af67d1e4337bd639ea4ed7f3e42952c87"
  },
  "kernelspec": {
   "display_name": "Python 3.9.7 ('.venv': poetry)",
   "language": "python",
   "name": "python3"
  },
  "language_info": {
   "codemirror_mode": {
    "name": "ipython",
    "version": 3
   },
   "file_extension": ".py",
   "mimetype": "text/x-python",
   "name": "python",
   "nbconvert_exporter": "python",
   "pygments_lexer": "ipython3",
   "version": "3.9.7"
  },
  "orig_nbformat": 4
 },
 "nbformat": 4,
 "nbformat_minor": 2
}

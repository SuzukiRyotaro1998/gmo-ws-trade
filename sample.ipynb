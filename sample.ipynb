{
 "cells": [
  {
   "cell_type": "code",
   "execution_count": 16,
   "metadata": {},
   "outputs": [
    {
     "data": {
      "text/html": [
       "<div>\n",
       "<style scoped>\n",
       "    .dataframe tbody tr th:only-of-type {\n",
       "        vertical-align: middle;\n",
       "    }\n",
       "\n",
       "    .dataframe tbody tr th {\n",
       "        vertical-align: top;\n",
       "    }\n",
       "\n",
       "    .dataframe thead th {\n",
       "        text-align: right;\n",
       "    }\n",
       "</style>\n",
       "<table border=\"1\" class=\"dataframe\">\n",
       "  <thead>\n",
       "    <tr style=\"text-align: right;\">\n",
       "      <th></th>\n",
       "      <th>pred</th>\n",
       "    </tr>\n",
       "    <tr>\n",
       "      <th>timestamp</th>\n",
       "      <th></th>\n",
       "    </tr>\n",
       "  </thead>\n",
       "  <tbody>\n",
       "    <tr>\n",
       "      <th>2020-01-01 00:00:00</th>\n",
       "      <td>10</td>\n",
       "    </tr>\n",
       "    <tr>\n",
       "      <th>2020-01-01 00:10:00</th>\n",
       "      <td>11</td>\n",
       "    </tr>\n",
       "    <tr>\n",
       "      <th>2020-01-01 00:20:00</th>\n",
       "      <td>12</td>\n",
       "    </tr>\n",
       "    <tr>\n",
       "      <th>2020-01-01 00:30:00</th>\n",
       "      <td>13</td>\n",
       "    </tr>\n",
       "    <tr>\n",
       "      <th>2020-01-01 00:40:00</th>\n",
       "      <td>14</td>\n",
       "    </tr>\n",
       "  </tbody>\n",
       "</table>\n",
       "</div>"
      ],
      "text/plain": [
       "                     pred\n",
       "timestamp                \n",
       "2020-01-01 00:00:00    10\n",
       "2020-01-01 00:10:00    11\n",
       "2020-01-01 00:20:00    12\n",
       "2020-01-01 00:30:00    13\n",
       "2020-01-01 00:40:00    14"
      ]
     },
     "execution_count": 16,
     "metadata": {},
     "output_type": "execute_result"
    }
   ],
   "source": [
    "from datetime import datetime, timedelta\n",
    "import pandas as pd\n",
    "\n",
    "def datetime_range(start, end, delta):\n",
    "    current = start\n",
    "    while current < end:\n",
    "        yield current\n",
    "        current += delta\n",
    "\n",
    "\n",
    "dt1 = [i for i in datetime_range(datetime(2020, 1, 1, 0, 0), datetime(2020, 1, 1, 1, 0), delta=timedelta(minutes=5))]\n",
    "dt2 = [i for i in datetime_range(datetime(2020, 1, 1, 0, 0), datetime(2020, 1, 1, 1, 0), delta=timedelta(minutes=10))]\n",
    "\n",
    "df1 = pd.DataFrame({\"value\": [i for i in range(len(dt1))], \"timestamp\": dt1})\n",
    "df2 = pd.DataFrame({\"pred\": [i+10 for i in range(len(dt2))], \"timestamp\": dt2})\n",
    "df1.set_index(\"timestamp\", inplace=True)\n",
    "df2.set_index(\"timestamp\", inplace=True)\n",
    "df2.head()"
   ]
  },
  {
   "cell_type": "code",
   "execution_count": 1,
   "metadata": {},
   "outputs": [
    {
     "data": {
      "text/plain": [
       "0"
      ]
     },
     "execution_count": 1,
     "metadata": {},
     "output_type": "execute_result"
    }
   ],
   "source": [
    "from websockets import WebSocketClientProtocol\n",
    "import multiprocessing as mp\n",
    "\n",
    "WebSocketClientProtocol.send\n",
    "\n",
    "q = mp.Manager().Queue()\n",
    "q.qsize()"
   ]
  },
  {
   "cell_type": "code",
   "execution_count": 34,
   "metadata": {},
   "outputs": [
    {
     "name": "stdout",
     "output_type": "stream",
     "text": [
      "DatetimeIndex(['2020-01-01 00:00:00', '2020-01-01 00:10:00',\n",
      "               '2020-01-01 00:20:00', '2020-01-01 00:30:00',\n",
      "               '2020-01-01 00:40:00', '2020-01-01 00:50:00'],\n",
      "              dtype='datetime64[ns]', name='timestamp', freq=None)\n",
      "<class 'pandas._libs.tslibs.timestamps.Timestamp'>\n",
      "DatetimeIndex(['2020-01-01 00:00:00', '2020-01-01 00:10:00',\n",
      "               '2020-01-01 00:20:00', '2020-01-01 00:30:00',\n",
      "               '2020-01-01 00:40:00', '2020-01-01 00:50:00'],\n",
      "              dtype='datetime64[ns]', name='timestamp', freq=None)\n",
      "<class 'pandas._libs.tslibs.timestamps.Timestamp'>\n",
      "DatetimeIndex(['2020-01-01 00:00:00', '2020-01-01 00:10:00',\n",
      "               '2020-01-01 00:20:00', '2020-01-01 00:30:00',\n",
      "               '2020-01-01 00:40:00', '2020-01-01 00:50:00'],\n",
      "              dtype='datetime64[ns]', name='timestamp', freq=None)\n",
      "<class 'pandas._libs.tslibs.timestamps.Timestamp'>\n",
      "DatetimeIndex(['2020-01-01 00:00:00', '2020-01-01 00:10:00',\n",
      "               '2020-01-01 00:20:00', '2020-01-01 00:30:00',\n",
      "               '2020-01-01 00:40:00', '2020-01-01 00:50:00'],\n",
      "              dtype='datetime64[ns]', name='timestamp', freq=None)\n",
      "<class 'pandas._libs.tslibs.timestamps.Timestamp'>\n",
      "DatetimeIndex(['2020-01-01 00:00:00', '2020-01-01 00:10:00',\n",
      "               '2020-01-01 00:20:00', '2020-01-01 00:30:00',\n",
      "               '2020-01-01 00:40:00', '2020-01-01 00:50:00'],\n",
      "              dtype='datetime64[ns]', name='timestamp', freq=None)\n",
      "<class 'pandas._libs.tslibs.timestamps.Timestamp'>\n",
      "DatetimeIndex(['2020-01-01 00:00:00', '2020-01-01 00:10:00',\n",
      "               '2020-01-01 00:20:00', '2020-01-01 00:30:00',\n",
      "               '2020-01-01 00:40:00', '2020-01-01 00:50:00'],\n",
      "              dtype='datetime64[ns]', name='timestamp', freq=None)\n",
      "<class 'pandas._libs.tslibs.timestamps.Timestamp'>\n",
      "DatetimeIndex(['2020-01-01 00:00:00', '2020-01-01 00:10:00',\n",
      "               '2020-01-01 00:20:00', '2020-01-01 00:30:00',\n",
      "               '2020-01-01 00:40:00', '2020-01-01 00:50:00'],\n",
      "              dtype='datetime64[ns]', name='timestamp', freq=None)\n",
      "<class 'pandas._libs.tslibs.timestamps.Timestamp'>\n",
      "DatetimeIndex(['2020-01-01 00:00:00', '2020-01-01 00:10:00',\n",
      "               '2020-01-01 00:20:00', '2020-01-01 00:30:00',\n",
      "               '2020-01-01 00:40:00', '2020-01-01 00:50:00'],\n",
      "              dtype='datetime64[ns]', name='timestamp', freq=None)\n",
      "<class 'pandas._libs.tslibs.timestamps.Timestamp'>\n",
      "DatetimeIndex(['2020-01-01 00:00:00', '2020-01-01 00:10:00',\n",
      "               '2020-01-01 00:20:00', '2020-01-01 00:30:00',\n",
      "               '2020-01-01 00:40:00', '2020-01-01 00:50:00'],\n",
      "              dtype='datetime64[ns]', name='timestamp', freq=None)\n",
      "<class 'pandas._libs.tslibs.timestamps.Timestamp'>\n",
      "DatetimeIndex(['2020-01-01 00:00:00', '2020-01-01 00:10:00',\n",
      "               '2020-01-01 00:20:00', '2020-01-01 00:30:00',\n",
      "               '2020-01-01 00:40:00', '2020-01-01 00:50:00'],\n",
      "              dtype='datetime64[ns]', name='timestamp', freq=None)\n",
      "<class 'pandas._libs.tslibs.timestamps.Timestamp'>\n",
      "DatetimeIndex(['2020-01-01 00:00:00', '2020-01-01 00:10:00',\n",
      "               '2020-01-01 00:20:00', '2020-01-01 00:30:00',\n",
      "               '2020-01-01 00:40:00', '2020-01-01 00:50:00'],\n",
      "              dtype='datetime64[ns]', name='timestamp', freq=None)\n",
      "<class 'pandas._libs.tslibs.timestamps.Timestamp'>\n",
      "DatetimeIndex(['2020-01-01 00:00:00', '2020-01-01 00:10:00',\n",
      "               '2020-01-01 00:20:00', '2020-01-01 00:30:00',\n",
      "               '2020-01-01 00:40:00', '2020-01-01 00:50:00'],\n",
      "              dtype='datetime64[ns]', name='timestamp', freq=None)\n",
      "<class 'pandas._libs.tslibs.timestamps.Timestamp'>\n"
     ]
    },
    {
     "data": {
      "text/html": [
       "<div>\n",
       "<style scoped>\n",
       "    .dataframe tbody tr th:only-of-type {\n",
       "        vertical-align: middle;\n",
       "    }\n",
       "\n",
       "    .dataframe tbody tr th {\n",
       "        vertical-align: top;\n",
       "    }\n",
       "\n",
       "    .dataframe thead th {\n",
       "        text-align: right;\n",
       "    }\n",
       "</style>\n",
       "<table border=\"1\" class=\"dataframe\">\n",
       "  <thead>\n",
       "    <tr style=\"text-align: right;\">\n",
       "      <th></th>\n",
       "      <th>timestamp</th>\n",
       "      <th>pred</th>\n",
       "      <th>acutial_timestamp</th>\n",
       "    </tr>\n",
       "  </thead>\n",
       "  <tbody>\n",
       "    <tr>\n",
       "      <th>0</th>\n",
       "      <td>2020-01-01 00:00:00</td>\n",
       "      <td>11.0</td>\n",
       "      <td>2020-01-01 00:10:00</td>\n",
       "    </tr>\n",
       "    <tr>\n",
       "      <th>1</th>\n",
       "      <td>2020-01-01 00:05:00</td>\n",
       "      <td>11.0</td>\n",
       "      <td>2020-01-01 00:10:00</td>\n",
       "    </tr>\n",
       "    <tr>\n",
       "      <th>2</th>\n",
       "      <td>2020-01-01 00:10:00</td>\n",
       "      <td>12.0</td>\n",
       "      <td>2020-01-01 00:20:00</td>\n",
       "    </tr>\n",
       "    <tr>\n",
       "      <th>3</th>\n",
       "      <td>2020-01-01 00:15:00</td>\n",
       "      <td>12.0</td>\n",
       "      <td>2020-01-01 00:20:00</td>\n",
       "    </tr>\n",
       "    <tr>\n",
       "      <th>4</th>\n",
       "      <td>2020-01-01 00:20:00</td>\n",
       "      <td>13.0</td>\n",
       "      <td>2020-01-01 00:30:00</td>\n",
       "    </tr>\n",
       "    <tr>\n",
       "      <th>5</th>\n",
       "      <td>2020-01-01 00:25:00</td>\n",
       "      <td>13.0</td>\n",
       "      <td>2020-01-01 00:30:00</td>\n",
       "    </tr>\n",
       "    <tr>\n",
       "      <th>6</th>\n",
       "      <td>2020-01-01 00:30:00</td>\n",
       "      <td>14.0</td>\n",
       "      <td>2020-01-01 00:40:00</td>\n",
       "    </tr>\n",
       "    <tr>\n",
       "      <th>7</th>\n",
       "      <td>2020-01-01 00:35:00</td>\n",
       "      <td>14.0</td>\n",
       "      <td>2020-01-01 00:40:00</td>\n",
       "    </tr>\n",
       "    <tr>\n",
       "      <th>8</th>\n",
       "      <td>2020-01-01 00:40:00</td>\n",
       "      <td>15.0</td>\n",
       "      <td>2020-01-01 00:50:00</td>\n",
       "    </tr>\n",
       "    <tr>\n",
       "      <th>9</th>\n",
       "      <td>2020-01-01 00:45:00</td>\n",
       "      <td>15.0</td>\n",
       "      <td>2020-01-01 00:50:00</td>\n",
       "    </tr>\n",
       "    <tr>\n",
       "      <th>10</th>\n",
       "      <td>2020-01-01 00:50:00</td>\n",
       "      <td>NaN</td>\n",
       "      <td>NaN</td>\n",
       "    </tr>\n",
       "    <tr>\n",
       "      <th>11</th>\n",
       "      <td>2020-01-01 00:55:00</td>\n",
       "      <td>NaN</td>\n",
       "      <td>NaN</td>\n",
       "    </tr>\n",
       "  </tbody>\n",
       "</table>\n",
       "</div>"
      ],
      "text/plain": [
       "             timestamp  pred    acutial_timestamp\n",
       "0  2020-01-01 00:00:00  11.0  2020-01-01 00:10:00\n",
       "1  2020-01-01 00:05:00  11.0  2020-01-01 00:10:00\n",
       "2  2020-01-01 00:10:00  12.0  2020-01-01 00:20:00\n",
       "3  2020-01-01 00:15:00  12.0  2020-01-01 00:20:00\n",
       "4  2020-01-01 00:20:00  13.0  2020-01-01 00:30:00\n",
       "5  2020-01-01 00:25:00  13.0  2020-01-01 00:30:00\n",
       "6  2020-01-01 00:30:00  14.0  2020-01-01 00:40:00\n",
       "7  2020-01-01 00:35:00  14.0  2020-01-01 00:40:00\n",
       "8  2020-01-01 00:40:00  15.0  2020-01-01 00:50:00\n",
       "9  2020-01-01 00:45:00  15.0  2020-01-01 00:50:00\n",
       "10 2020-01-01 00:50:00   NaN                  NaN\n",
       "11 2020-01-01 00:55:00   NaN                  NaN"
      ]
     },
     "execution_count": 34,
     "metadata": {},
     "output_type": "execute_result"
    }
   ],
   "source": [
    "df2[\"acutial_timestamp\"] = df2.index\n",
    "\n",
    "column_names = df2.columns.values.tolist()\n",
    "mached_df = pd.DataFrame({\"timestamp\": df1.index})\n",
    "for idx, timestamp in enumerate(df1.index):\n",
    "    target_row = df2.loc[df2.index > timestamp]\n",
    "    print(df2.index)\n",
    "    print(type(timestamp))\n",
    "    if len(target_row) > 0:\n",
    "        target_row = target_row.iloc[0, :]\n",
    "        # target_row[\"timestamp\"] = timestamp\n",
    "        mached_df.loc[idx, column_names] = target_row\n",
    "\n",
    "mached_df"
   ]
  },
  {
   "cell_type": "code",
   "execution_count": 11,
   "metadata": {},
   "outputs": [
    {
     "data": {
      "text/plain": [
       "('https://api.coin.z.com/private/v1/account/margin',\n",
       " {'API-KEY': 'Plfxvm+FGFajlkeujJLhlzryVE5TkEJl',\n",
       "  'API-TIMESTAMP': '1646646488000',\n",
       "  'API-SIGN': '53fdef3a688422ef358b5a028e9f815504120422ced3038977ca6a8843ab27b2'})"
      ]
     },
     "execution_count": 11,
     "metadata": {},
     "output_type": "execute_result"
    }
   ],
   "source": [
    "manager = QueueAndTradeManager(api_key=os.environ[\"EXCHANGE_API_KEY\"], api_secret=os.environ[\"EXCHANGE_API_SECRET\"])\n",
    "\n",
    "url, headers = manager.test_http_private_request_args()\n",
    "url, headers"
   ]
  },
  {
   "cell_type": "code",
   "execution_count": 12,
   "metadata": {},
   "outputs": [
    {
     "data": {
      "text/plain": [
       "<Response [200]>"
      ]
     },
     "execution_count": 12,
     "metadata": {},
     "output_type": "execute_result"
    }
   ],
   "source": [
    "import requests\n",
    "\n",
    "requests.get(url, headers=headers)"
   ]
  },
  {
   "cell_type": "code",
   "execution_count": 9,
   "metadata": {},
   "outputs": [
    {
     "data": {
      "text/plain": [
       "<Response [200]>"
      ]
     },
     "execution_count": 9,
     "metadata": {},
     "output_type": "execute_result"
    }
   ],
   "source": [
    "import requests\n",
    "import json\n",
    "import hmac\n",
    "import hashlib\n",
    "import time\n",
    "from datetime import datetime\n",
    "\n",
    "apiKey    = os.environ[\"EXCHANGE_API_KEY\"]\n",
    "secretKey = os.environ[\"EXCHANGE_API_SECRET\"]\n",
    "\n",
    "timestamp = '{0}000'.format(int(time.mktime(datetime.now().timetuple())))\n",
    "method    = 'GET'\n",
    "endPoint  = 'https://api.coin.z.com/private'\n",
    "path      = '/v1/account/margin'\n",
    "\n",
    "text = timestamp + method + path\n",
    "sign = hmac.new(bytes(secretKey.encode('ascii')), bytes(text.encode('ascii')), hashlib.sha256).hexdigest()\n",
    "\n",
    "headers = {\n",
    "    \"API-KEY\": apiKey,\n",
    "    \"API-TIMESTAMP\": timestamp,\n",
    "    \"API-SIGN\": sign\n",
    "}\n",
    "\n",
    "requests.get(endPoint+path, headers=headers)"
   ]
  },
  {
   "cell_type": "code",
   "execution_count": 1,
   "metadata": {},
   "outputs": [
    {
     "name": "stdout",
     "output_type": "stream",
     "text": [
      "1647007968093\n"
     ]
    }
   ],
   "source": [
    "from gmo_hft_bot.db import crud\n",
    "from gmo_hft_bot.db.database import SessionLocal\n",
    "\n",
    "with SessionLocal() as db:\n",
    "    ticks = crud.get_all_ticks(db=db, symbol=\"BTC_JPY\")\n",
    "\n",
    "print(ticks[0].timestamp)"
   ]
  },
  {
   "cell_type": "code",
   "execution_count": 3,
   "metadata": {},
   "outputs": [
    {
     "data": {
      "text/plain": [
       "1647139335000"
      ]
     },
     "execution_count": 3,
     "metadata": {},
     "output_type": "execute_result"
    }
   ],
   "source": [
    "1647139335 * 1000"
   ]
  },
  {
   "cell_type": "code",
   "execution_count": 20,
   "metadata": {},
   "outputs": [
    {
     "data": {
      "text/plain": [
       "'2022-03-13T08:21:40.667471+00:00'"
      ]
     },
     "execution_count": 20,
     "metadata": {},
     "output_type": "execute_result"
    }
   ],
   "source": [
    "from datetime import datetime, timezone, timedelta\n",
    "\n",
    "now = datetime.now(timezone.utc)\n",
    "# d = (now + timedelta(seconds=1)).isoformat()\n",
    "now.isoformat()"
   ]
  },
  {
   "cell_type": "code",
   "execution_count": null,
   "metadata": {},
   "outputs": [],
   "source": []
  },
  {
   "cell_type": "markdown",
   "metadata": {},
   "source": []
  }
 ],
 "metadata": {
  "interpreter": {
   "hash": "b5a4588476ecca76b0be4acb3844359af67d1e4337bd639ea4ed7f3e42952c87"
  },
  "kernelspec": {
   "display_name": "Python 3.9.7 ('.venv': poetry)",
   "language": "python",
   "name": "python3"
  },
  "language_info": {
   "codemirror_mode": {
    "name": "ipython",
    "version": 3
   },
   "file_extension": ".py",
   "mimetype": "text/x-python",
   "name": "python",
   "nbconvert_exporter": "python",
   "pygments_lexer": "ipython3",
   "version": "3.9.7"
  },
  "orig_nbformat": 4
 },
 "nbformat": 4,
 "nbformat_minor": 2
}
